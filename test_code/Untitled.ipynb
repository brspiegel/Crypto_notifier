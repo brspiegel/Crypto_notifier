{
 "cells": [
  {
   "cell_type": "code",
   "execution_count": 3,
   "id": "94107ec7-4fed-487d-9c1b-dc8c612b5d5f",
   "metadata": {},
   "outputs": [],
   "source": [
    "# Import required libraries and dependencies\n",
    "import pandas as pd\n",
    "import os\n",
    "import numpy as np\n",
    "from pycoingecko import CoinGeckoAPI\n",
    "import questionary\n",
    "from twilio.rest import Client\n",
    "from twilio.base.exceptions import TwilioRestException\n",
    "from dotenv import load_dotenv"
   ]
  },
  {
   "cell_type": "code",
   "execution_count": 4,
   "id": "ac3f4f9a-77e1-4178-b23c-2765141805e8",
   "metadata": {},
   "outputs": [
    {
     "data": {
      "text/plain": [
       "True"
      ]
     },
     "execution_count": 4,
     "metadata": {},
     "output_type": "execute_result"
    }
   ],
   "source": [
    "load_dotenv()"
   ]
  },
  {
   "cell_type": "code",
   "execution_count": 5,
   "id": "4f017809-6f8f-4080-9339-7657a2441d92",
   "metadata": {},
   "outputs": [],
   "source": [
    "cg = CoinGeckoAPI()"
   ]
  },
  {
   "cell_type": "code",
   "execution_count": 6,
   "id": "d3e1815e-e27a-4d82-bfa9-56d1a79194ee",
   "metadata": {},
   "outputs": [
    {
     "data": {
      "text/plain": [
       "str"
      ]
     },
     "metadata": {},
     "output_type": "display_data"
    }
   ],
   "source": [
    "twilio_account_id = os.environ[\"TWILIO_ACCOUNT_ID\"]\n",
    "twilio_token = os.environ[\"TWILIO_AUTH_TOKEN\"]\n",
    "twilio_phone_number = os.environ[\"TWILIO_PHONE_NUMBER\"]\n",
    "display(type(twilio_account_id))\n",
    "\n"
   ]
  },
  {
   "cell_type": "code",
   "execution_count": 7,
   "id": "22f485e9-d2f2-443a-895f-92659f118da5",
   "metadata": {},
   "outputs": [],
   "source": [
    "# Create twilio rest client \n",
    "client = Client(twilio_account_id, twilio_token)"
   ]
  },
  {
   "cell_type": "code",
   "execution_count": null,
   "id": "4b9e4ef6-e2de-4fd8-90b4-cc5fe1aea061",
   "metadata": {},
   "outputs": [],
   "source": []
  },
  {
   "cell_type": "code",
   "execution_count": 8,
   "id": "54df3f08-5f4b-45e5-9e0f-cffed3364f1a",
   "metadata": {},
   "outputs": [],
   "source": [
    "# Define generate twilio message\n",
    "def generate_twilio_message(phone_number, twilio_phone_number, information):\n",
    "    try:\n",
    "        message = client.messages.create(to=f\"+1{phone_number}\", from_=f\"+1{twilio_phone_number}\",\n",
    "                                    body=information)\n",
    "    # Implement your fallback code\n",
    "    except TwilioRestException as e:\n",
    "        print(e)\n",
    "    return message"
   ]
  },
  {
   "cell_type": "code",
   "execution_count": 10,
   "id": "eea9fd7b-74ac-4757-8f17-c85bc93023f1",
   "metadata": {},
   "outputs": [],
   "source": [
    "tickers = ['bitcoin', 'cardano']"
   ]
  },
  {
   "cell_type": "code",
   "execution_count": null,
   "id": "adc94be7-af4d-4a0e-bdfe-54b75cd75830",
   "metadata": {},
   "outputs": [],
   "source": []
  },
  {
   "cell_type": "code",
   "execution_count": null,
   "id": "97569753-a9b5-4259-aa25-d9b171872099",
   "metadata": {},
   "outputs": [],
   "source": []
  },
  {
   "cell_type": "code",
   "execution_count": null,
   "id": "0fdcff8e-89c4-4353-b898-60915f398adb",
   "metadata": {},
   "outputs": [],
   "source": [
    "for ticker in tickers:   \n",
    "        daily_pct = cg.get_price(ids=f'{ticker}', vs_currencies='usd',include_24hr_change='true')\n",
    "        daily_pct_df = pd.DataFrame(daily_pct)\n",
    "        daily_pct_df.T\n",
    "        compare_value = np.absolute(daily_pct_df.loc[:, 'usd_')\n",
    "        if compare_value[0] >= (swing_thresholds_df.loc[ticker])*100:\n",
    "            information_to_send = f\"There was a big price swing for {ticker} today compared to the last three years worth of daily changes \\n\"\n",
    "            message_list.append(information_to_send)"
   ]
  },
  {
   "cell_type": "code",
   "execution_count": 16,
   "id": "ac220b66-b08b-4e98-be32-fc8a978f0309",
   "metadata": {},
   "outputs": [],
   "source": [
    "daily_pct = cg.get_price(ids='bitcoin', vs_currencies='usd',include_24hr_change='true')"
   ]
  },
  {
   "cell_type": "code",
   "execution_count": 17,
   "id": "13b6cff7-2063-4d6d-b63e-17f9fb94a8e0",
   "metadata": {},
   "outputs": [
    {
     "data": {
      "text/plain": [
       "{'bitcoin': {'usd': 19490.74, 'usd_24h_change': -2.7175322247765052}}"
      ]
     },
     "execution_count": 17,
     "metadata": {},
     "output_type": "execute_result"
    }
   ],
   "source": [
    "daily_pct"
   ]
  },
  {
   "cell_type": "code",
   "execution_count": 19,
   "id": "9ff3f297-cb99-4e81-8eda-1287d6bee482",
   "metadata": {},
   "outputs": [
    {
     "data": {
      "text/html": [
       "<div>\n",
       "<style scoped>\n",
       "    .dataframe tbody tr th:only-of-type {\n",
       "        vertical-align: middle;\n",
       "    }\n",
       "\n",
       "    .dataframe tbody tr th {\n",
       "        vertical-align: top;\n",
       "    }\n",
       "\n",
       "    .dataframe thead th {\n",
       "        text-align: right;\n",
       "    }\n",
       "</style>\n",
       "<table border=\"1\" class=\"dataframe\">\n",
       "  <thead>\n",
       "    <tr style=\"text-align: right;\">\n",
       "      <th></th>\n",
       "      <th>usd</th>\n",
       "      <th>usd_24h_change</th>\n",
       "    </tr>\n",
       "  </thead>\n",
       "  <tbody>\n",
       "    <tr>\n",
       "      <th>bitcoin</th>\n",
       "      <td>19490.74</td>\n",
       "      <td>-2.717532</td>\n",
       "    </tr>\n",
       "  </tbody>\n",
       "</table>\n",
       "</div>"
      ],
      "text/plain": [
       "              usd  usd_24h_change\n",
       "bitcoin  19490.74       -2.717532"
      ]
     },
     "execution_count": 19,
     "metadata": {},
     "output_type": "execute_result"
    }
   ],
   "source": [
    "daily_pct_df = pd.DataFrame(daily_pct)\n",
    "daily_pct_df = daily_pct_df.T\n",
    "daily_pct_df"
   ]
  },
  {
   "cell_type": "code",
   "execution_count": 21,
   "id": "36156684-2431-45b1-a732-1f75c8020e3a",
   "metadata": {},
   "outputs": [
    {
     "data": {
      "text/plain": [
       "2.7175322247765052"
      ]
     },
     "execution_count": 21,
     "metadata": {},
     "output_type": "execute_result"
    }
   ],
   "source": [
    "compare_value = np.absolute(daily_pct_df.loc[:, 'usd_24h_change'])\n",
    "compare_value[0]"
   ]
  },
  {
   "cell_type": "code",
   "execution_count": 22,
   "id": "6fb7ff5b-21f5-4878-acb9-85ab317bcde7",
   "metadata": {},
   "outputs": [
    {
     "data": {
      "text/html": [
       "<div>\n",
       "<style scoped>\n",
       "    .dataframe tbody tr th:only-of-type {\n",
       "        vertical-align: middle;\n",
       "    }\n",
       "\n",
       "    .dataframe tbody tr th {\n",
       "        vertical-align: top;\n",
       "    }\n",
       "\n",
       "    .dataframe thead th {\n",
       "        text-align: right;\n",
       "    }\n",
       "</style>\n",
       "<table border=\"1\" class=\"dataframe\">\n",
       "  <thead>\n",
       "    <tr style=\"text-align: right;\">\n",
       "      <th></th>\n",
       "      <th>pct_change_Threshold</th>\n",
       "    </tr>\n",
       "    <tr>\n",
       "      <th>Coin</th>\n",
       "      <th></th>\n",
       "    </tr>\n",
       "  </thead>\n",
       "  <tbody>\n",
       "    <tr>\n",
       "      <th>bitcoin</th>\n",
       "      <td>0.029452</td>\n",
       "    </tr>\n",
       "    <tr>\n",
       "      <th>ethereum</th>\n",
       "      <td>0.038992</td>\n",
       "    </tr>\n",
       "    <tr>\n",
       "      <th>ripple</th>\n",
       "      <td>0.044968</td>\n",
       "    </tr>\n",
       "    <tr>\n",
       "      <th>cardano</th>\n",
       "      <td>0.045519</td>\n",
       "    </tr>\n",
       "    <tr>\n",
       "      <th>solana</th>\n",
       "      <td>0.057073</td>\n",
       "    </tr>\n",
       "  </tbody>\n",
       "</table>\n",
       "</div>"
      ],
      "text/plain": [
       "          pct_change_Threshold\n",
       "Coin                          \n",
       "bitcoin               0.029452\n",
       "ethereum              0.038992\n",
       "ripple                0.044968\n",
       "cardano               0.045519\n",
       "solana                0.057073"
      ]
     },
     "execution_count": 22,
     "metadata": {},
     "output_type": "execute_result"
    }
   ],
   "source": [
    "crypto_swing_thresholds = {'Coin':['bitcoin','ethereum','ripple','cardano','solana'],'pct_change_Threshold':[0.029452,0.038992,0.044968,0.045519,0.057073]}\n",
    "\n",
    "swing_thresholds_df = pd.DataFrame(crypto_swing_thresholds).set_index('Coin')\n",
    "\n",
    "swing_thresholds_df"
   ]
  },
  {
   "cell_type": "code",
   "execution_count": 25,
   "id": "e0f495c7-394f-4962-a346-cef2d7d9c117",
   "metadata": {},
   "outputs": [
    {
     "data": {
      "text/plain": [
       "2.9452"
      ]
     },
     "execution_count": 25,
     "metadata": {},
     "output_type": "execute_result"
    }
   ],
   "source": [
    "swing_thresholds_df.loc[ticker][0]*100"
   ]
  },
  {
   "cell_type": "code",
   "execution_count": null,
   "id": "2bbb5245-cbd0-41f3-8804-280ed98dcaa2",
   "metadata": {},
   "outputs": [],
   "source": []
  }
 ],
 "metadata": {
  "kernelspec": {
   "display_name": "Python (dev)",
   "language": "python",
   "name": "dev"
  },
  "language_info": {
   "codemirror_mode": {
    "name": "ipython",
    "version": 3
   },
   "file_extension": ".py",
   "mimetype": "text/x-python",
   "name": "python",
   "nbconvert_exporter": "python",
   "pygments_lexer": "ipython3",
   "version": "3.7.13"
  }
 },
 "nbformat": 4,
 "nbformat_minor": 5
}
