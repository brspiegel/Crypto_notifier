{
 "cells": [
  {
   "cell_type": "code",
   "execution_count": 35,
   "id": "031410ec-524e-430c-80df-f70a208b0293",
   "metadata": {},
   "outputs": [],
   "source": [
    "# Import required libraries and dependencies\n",
    "import pandas as pd\n",
    "import requests\n",
    "import os\n",
    "import datetime\n",
    "import time\n",
    "import json\n",
    "import numpy as np"
   ]
  },
  {
   "cell_type": "code",
   "execution_count": 3,
   "id": "1cb9036e-05a6-4fff-9722-15668565f9e0",
   "metadata": {},
   "outputs": [],
   "source": [
    "# Create coingecko rest client\n",
    "from pycoingecko import CoinGeckoAPI\n",
    "cg = CoinGeckoAPI()"
   ]
  },
  {
   "cell_type": "code",
   "execution_count": 4,
   "id": "9c64ff87-528b-45fa-8299-23526b0f360a",
   "metadata": {},
   "outputs": [
    {
     "data": {
      "text/plain": [
       "1662312214.920131"
      ]
     },
     "execution_count": 4,
     "metadata": {},
     "output_type": "execute_result"
    }
   ],
   "source": [
    "# Get date two weeks from today\n",
    "start_date_two_weeks_ago = (pd.Timestamp.now() - pd.Timedelta('14 days')).timestamp()\n",
    "start_date_two_weeks_ago"
   ]
  },
  {
   "cell_type": "code",
   "execution_count": 5,
   "id": "bc9358ea-d7e6-4db1-803b-de9778491364",
   "metadata": {},
   "outputs": [
    {
     "data": {
      "text/plain": [
       "1663521815.313822"
      ]
     },
     "execution_count": 5,
     "metadata": {},
     "output_type": "execute_result"
    }
   ],
   "source": [
    "# Get date right now\n",
    "end_date_today = (pd.Timestamp.now()).timestamp()\n",
    "end_date_today"
   ]
  },
  {
   "cell_type": "code",
   "execution_count": 22,
   "id": "2f93246b-9094-440e-8f50-4c7585ce0ccf",
   "metadata": {},
   "outputs": [
    {
     "data": {
      "text/plain": [
       "{'ripple': 0           NaN\n",
       " 1     -0.002673\n",
       " 2     -0.000762\n",
       " 3      0.003476\n",
       " 4     -0.001038\n",
       "          ...   \n",
       " 331    0.003041\n",
       " 332    0.005317\n",
       " 333   -0.007527\n",
       " 334    0.008821\n",
       " 335    0.016371\n",
       " Name: daily_return, Length: 336, dtype: float64}"
      ]
     },
     "execution_count": 22,
     "metadata": {},
     "output_type": "execute_result"
    }
   ],
   "source": [
    "symbols = ['bitcoin', 'ethereum', 'ripple', 'cardano', 'solana']\n",
    "\n",
    "# Create logic to loop through symbols and put into data frame\n",
    "to_merge_list = []\n",
    "for symbol in symbols:\n",
    "    df = cg.get_coin_market_chart_range_by_id(id=f'{symbol}', vs_currency='usd', from_timestamp=start_date_two_weeks_ago, to_timestamp=end_date_today)\n",
    "    df = df['prices']\n",
    "    df_two_weeks = pd.DataFrame(df)\n",
    "    df_two_weeks.columns = ['date', 'price']\n",
    "    df_two_weeks['daily_return'] = df_two_weeks['price'].pct_change().dropna()\n",
    "    df_daily_return = df_two_weeks['daily_return']\n",
    "    to_merge_list.append({f'{symbol}': df_daily_return})\n",
    "to_merge_list[2]"
   ]
  },
  {
   "cell_type": "code",
   "execution_count": 34,
   "id": "d8dc11ab-bada-49f4-be57-2f35ff4bee12",
   "metadata": {},
   "outputs": [
    {
     "data": {
      "text/plain": [
       "bitcoin   -2.844271\n",
       "Name: usd_24h_change, dtype: float64"
      ]
     },
     "execution_count": 34,
     "metadata": {},
     "output_type": "execute_result"
    }
   ],
   "source": [
    "daily_pct = cg.get_price(ids='bitcoin', vs_currencies='usd',include_24hr_change='true')\n",
    "daily_pct = pd.DataFrame(daily_pct)\n",
    "daily_pct = daily_pct.T\n",
    "daily_pct.loc[:, 'usd_24h_change']"
   ]
  },
  {
   "cell_type": "code",
   "execution_count": 36,
   "id": "cf39ca32-7053-4636-ba7e-8b4903015980",
   "metadata": {},
   "outputs": [
    {
     "data": {
      "text/plain": [
       "bitcoin    2.844271\n",
       "Name: usd_24h_change, dtype: float64"
      ]
     },
     "execution_count": 36,
     "metadata": {},
     "output_type": "execute_result"
    }
   ],
   "source": [
    "np.absolute(daily_pct.loc[:, 'usd_24h_change'])"
   ]
  },
  {
   "cell_type": "code",
   "execution_count": 37,
   "id": "dccee7ba-b8c5-42a3-b327-2768b33cd312",
   "metadata": {},
   "outputs": [
    {
     "data": {
      "text/html": [
       "<div>\n",
       "<style scoped>\n",
       "    .dataframe tbody tr th:only-of-type {\n",
       "        vertical-align: middle;\n",
       "    }\n",
       "\n",
       "    .dataframe tbody tr th {\n",
       "        vertical-align: top;\n",
       "    }\n",
       "\n",
       "    .dataframe thead th {\n",
       "        text-align: right;\n",
       "    }\n",
       "</style>\n",
       "<table border=\"1\" class=\"dataframe\">\n",
       "  <thead>\n",
       "    <tr style=\"text-align: right;\">\n",
       "      <th></th>\n",
       "      <th>pct_change_Threshold</th>\n",
       "    </tr>\n",
       "    <tr>\n",
       "      <th>Coin</th>\n",
       "      <th></th>\n",
       "    </tr>\n",
       "  </thead>\n",
       "  <tbody>\n",
       "    <tr>\n",
       "      <th>bitcoin</th>\n",
       "      <td>0.029452</td>\n",
       "    </tr>\n",
       "    <tr>\n",
       "      <th>ethereum</th>\n",
       "      <td>0.038992</td>\n",
       "    </tr>\n",
       "    <tr>\n",
       "      <th>ripple</th>\n",
       "      <td>0.044968</td>\n",
       "    </tr>\n",
       "    <tr>\n",
       "      <th>cardano</th>\n",
       "      <td>0.045519</td>\n",
       "    </tr>\n",
       "    <tr>\n",
       "      <th>solana</th>\n",
       "      <td>0.057073</td>\n",
       "    </tr>\n",
       "  </tbody>\n",
       "</table>\n",
       "</div>"
      ],
      "text/plain": [
       "          pct_change_Threshold\n",
       "Coin                          \n",
       "bitcoin               0.029452\n",
       "ethereum              0.038992\n",
       "ripple                0.044968\n",
       "cardano               0.045519\n",
       "solana                0.057073"
      ]
     },
     "execution_count": 37,
     "metadata": {},
     "output_type": "execute_result"
    }
   ],
   "source": [
    "crypto_swing_thresholds = {'Coin':['bitcoin','ethereum','ripple','cardano','solana'],'pct_change_Threshold':[0.029452,0.038992,0.044968,0.045519,0.057073]}\n",
    "\n",
    "swing_thresholds_df = pd.DataFrame(crypto_swing_thresholds).set_index('Coin')\n",
    "swing_thresholds_df"
   ]
  },
  {
   "cell_type": "code",
   "execution_count": null,
   "id": "2bd75049-8dfa-48e4-83a3-14ab2de98913",
   "metadata": {},
   "outputs": [],
   "source": []
  }
 ],
 "metadata": {
  "kernelspec": {
   "display_name": "Python (dev)",
   "language": "python",
   "name": "dev"
  },
  "language_info": {
   "codemirror_mode": {
    "name": "ipython",
    "version": 3
   },
   "file_extension": ".py",
   "mimetype": "text/x-python",
   "name": "python",
   "nbconvert_exporter": "python",
   "pygments_lexer": "ipython3",
   "version": "3.7.13"
  }
 },
 "nbformat": 4,
 "nbformat_minor": 5
}
