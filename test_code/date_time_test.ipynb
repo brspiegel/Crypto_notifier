{
 "cells": [
  {
   "cell_type": "code",
   "execution_count": 1,
   "id": "09378f00-88a7-49df-91aa-13e69aa28de0",
   "metadata": {},
   "outputs": [],
   "source": [
    "import pandas as pd"
   ]
  },
  {
   "cell_type": "code",
   "execution_count": 8,
   "id": "f7ca854d-34ce-4957-8113-8648c8446c55",
   "metadata": {},
   "outputs": [
    {
     "name": "stdout",
     "output_type": "stream",
     "text": [
      "2022-09-14 19:00:54.247400\n"
     ]
    }
   ],
   "source": [
    "today = pd.Timestamp.now()\n",
    "print(today)"
   ]
  },
  {
   "cell_type": "code",
   "execution_count": 9,
   "id": "7f0778d6-5a8b-457c-9098-b3e2b3cb37c7",
   "metadata": {},
   "outputs": [
    {
     "name": "stdout",
     "output_type": "stream",
     "text": [
      "2022-08-31 19:00:54.247400\n"
     ]
    }
   ],
   "source": [
    "two_weeks_ago = today - pd.Timedelta(\"14 days\")\n",
    "print(two_weeks_ago)"
   ]
  },
  {
   "cell_type": "code",
   "execution_count": 10,
   "id": "dcc601e6-dc65-43ef-b933-950bd2188764",
   "metadata": {},
   "outputs": [
    {
     "name": "stdout",
     "output_type": "stream",
     "text": [
      "2022-08-31 19:00:54.247400\n"
     ]
    }
   ],
   "source": [
    "two_weeks_ago.isoformat()\n",
    "print(two_weeks_ago)"
   ]
  },
  {
   "cell_type": "code",
   "execution_count": 4,
   "id": "d6b4a835-ef2b-477a-a464-d1476fdcb79b",
   "metadata": {},
   "outputs": [
    {
     "name": "stdout",
     "output_type": "stream",
     "text": [
      "2022-09-14T18:59:48.614231\n"
     ]
    }
   ],
   "source": [
    "now = pd.Timestamp.now().isoformat()\n",
    "print(now)"
   ]
  },
  {
   "cell_type": "code",
   "execution_count": null,
   "id": "d1d80d8d-cb3e-4700-ba99-6c6b9736637a",
   "metadata": {},
   "outputs": [],
   "source": [
    "three_years = pd.Timestamp.now - "
   ]
  }
 ],
 "metadata": {
  "kernelspec": {
   "display_name": "Python (dev)",
   "language": "python",
   "name": "dev"
  },
  "language_info": {
   "codemirror_mode": {
    "name": "ipython",
    "version": 3
   },
   "file_extension": ".py",
   "mimetype": "text/x-python",
   "name": "python",
   "nbconvert_exporter": "python",
   "pygments_lexer": "ipython3",
   "version": "3.7.13"
  }
 },
 "nbformat": 4,
 "nbformat_minor": 5
}
