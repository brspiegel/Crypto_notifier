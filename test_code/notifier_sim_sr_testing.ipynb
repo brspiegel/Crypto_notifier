{
 "cells": [
  {
   "cell_type": "code",
   "execution_count": 19,
   "id": "05c7ee56-22ed-42ce-9048-feea1a417f7d",
   "metadata": {},
   "outputs": [],
   "source": [
    "import pandas as pd\n",
    "import os\n",
    "from pathlib import Path\n",
    "import numpy as np\n",
    "from pycoingecko import CoinGeckoAPI\n",
    "import questionary\n",
    "from twilio.rest import Client\n",
    "from twilio.base.exceptions import TwilioRestException\n",
    "from dotenv import load_dotenv"
   ]
  },
  {
   "cell_type": "code",
   "execution_count": 20,
   "id": "ef684082-6181-4f4c-a2a6-44cd2e39aa97",
   "metadata": {},
   "outputs": [],
   "source": [
    "# Set Variable for coingecko API\n",
    "cg = CoinGeckoAPI()"
   ]
  },
  {
   "cell_type": "code",
   "execution_count": 42,
   "id": "55fabc06-aaa1-468d-993a-d380700a05c4",
   "metadata": {},
   "outputs": [],
   "source": [
    "#Data for app to pull\n",
    "#Dataframe for swing thresholds\n",
    "crypto_swing_thresholds = {'Coin':['bitcoin','ethereum','ripple','cardano','solana'],'pct_change_Threshold':[0.029452,0.038992,0.044968,0.045519,0.057073]}\n",
    "swing_thresholds_df = pd.DataFrame(crypto_swing_thresholds).set_index('Coin')\n",
    "#Simulation data - two weeks DataFrame\n",
    "simdata_path = Path('../Resources/simdata.csv')\n",
    "# Read in data and index by dates\n",
    "two_week_daily_pct_change_df = pd.read_csv(simdata_path)"
   ]
  },
  {
   "cell_type": "code",
   "execution_count": 43,
   "id": "b8328f4d-1876-4e20-a54b-03cdc4765fde",
   "metadata": {},
   "outputs": [
    {
     "data": {
      "text/html": [
       "<div>\n",
       "<style scoped>\n",
       "    .dataframe tbody tr th:only-of-type {\n",
       "        vertical-align: middle;\n",
       "    }\n",
       "\n",
       "    .dataframe tbody tr th {\n",
       "        vertical-align: top;\n",
       "    }\n",
       "\n",
       "    .dataframe thead th {\n",
       "        text-align: right;\n",
       "    }\n",
       "</style>\n",
       "<table border=\"1\" class=\"dataframe\">\n",
       "  <thead>\n",
       "    <tr style=\"text-align: right;\">\n",
       "      <th></th>\n",
       "      <th>date</th>\n",
       "      <th>bitcoin</th>\n",
       "      <th>ethereum</th>\n",
       "      <th>ripple</th>\n",
       "      <th>cardano</th>\n",
       "      <th>solana</th>\n",
       "    </tr>\n",
       "  </thead>\n",
       "  <tbody>\n",
       "    <tr>\n",
       "      <th>0</th>\n",
       "      <td>2022-09-04</td>\n",
       "      <td>-0.636298</td>\n",
       "      <td>-1.238119</td>\n",
       "      <td>-0.367859</td>\n",
       "      <td>5.582767</td>\n",
       "      <td>-0.385324</td>\n",
       "    </tr>\n",
       "    <tr>\n",
       "      <th>1</th>\n",
       "      <td>2022-09-05</td>\n",
       "      <td>0.834987</td>\n",
       "      <td>1.496150</td>\n",
       "      <td>0.625075</td>\n",
       "      <td>4.647116</td>\n",
       "      <td>3.438845</td>\n",
       "    </tr>\n",
       "    <tr>\n",
       "      <th>2</th>\n",
       "      <td>2022-09-06</td>\n",
       "      <td>-0.972370</td>\n",
       "      <td>2.469120</td>\n",
       "      <td>0.283447</td>\n",
       "      <td>-0.562930</td>\n",
       "      <td>0.220518</td>\n",
       "    </tr>\n",
       "    <tr>\n",
       "      <th>3</th>\n",
       "      <td>2022-09-07</td>\n",
       "      <td>-4.681320</td>\n",
       "      <td>-3.299050</td>\n",
       "      <td>-3.088954</td>\n",
       "      <td>-7.096982</td>\n",
       "      <td>-3.983258</td>\n",
       "    </tr>\n",
       "    <tr>\n",
       "      <th>4</th>\n",
       "      <td>2022-09-08</td>\n",
       "      <td>2.232962</td>\n",
       "      <td>4.175252</td>\n",
       "      <td>4.623904</td>\n",
       "      <td>3.342424</td>\n",
       "      <td>5.883215</td>\n",
       "    </tr>\n",
       "    <tr>\n",
       "      <th>5</th>\n",
       "      <td>2022-09-09</td>\n",
       "      <td>0.218625</td>\n",
       "      <td>0.371127</td>\n",
       "      <td>0.808318</td>\n",
       "      <td>0.042716</td>\n",
       "      <td>2.607785</td>\n",
       "    </tr>\n",
       "    <tr>\n",
       "      <th>6</th>\n",
       "      <td>2022-09-10</td>\n",
       "      <td>10.540952</td>\n",
       "      <td>4.960156</td>\n",
       "      <td>4.700964</td>\n",
       "      <td>4.601928</td>\n",
       "      <td>3.275954</td>\n",
       "    </tr>\n",
       "    <tr>\n",
       "      <th>7</th>\n",
       "      <td>2022-09-11</td>\n",
       "      <td>1.628331</td>\n",
       "      <td>3.636533</td>\n",
       "      <td>0.302950</td>\n",
       "      <td>2.078872</td>\n",
       "      <td>1.278277</td>\n",
       "    </tr>\n",
       "    <tr>\n",
       "      <th>8</th>\n",
       "      <td>2022-09-12</td>\n",
       "      <td>0.149337</td>\n",
       "      <td>-1.022842</td>\n",
       "      <td>-0.883464</td>\n",
       "      <td>-0.779317</td>\n",
       "      <td>-0.700938</td>\n",
       "    </tr>\n",
       "    <tr>\n",
       "      <th>9</th>\n",
       "      <td>2022-09-13</td>\n",
       "      <td>2.759299</td>\n",
       "      <td>-2.904250</td>\n",
       "      <td>1.161676</td>\n",
       "      <td>-1.565158</td>\n",
       "      <td>6.990171</td>\n",
       "    </tr>\n",
       "    <tr>\n",
       "      <th>10</th>\n",
       "      <td>2022-09-14</td>\n",
       "      <td>-9.645187</td>\n",
       "      <td>-8.008533</td>\n",
       "      <td>-7.098948</td>\n",
       "      <td>-6.996775</td>\n",
       "      <td>-11.473899</td>\n",
       "    </tr>\n",
       "    <tr>\n",
       "      <th>11</th>\n",
       "      <td>2022-09-15</td>\n",
       "      <td>0.351526</td>\n",
       "      <td>3.951359</td>\n",
       "      <td>2.750639</td>\n",
       "      <td>3.575440</td>\n",
       "      <td>3.058941</td>\n",
       "    </tr>\n",
       "    <tr>\n",
       "      <th>12</th>\n",
       "      <td>2022-09-16</td>\n",
       "      <td>-2.733784</td>\n",
       "      <td>-9.989714</td>\n",
       "      <td>-4.476076</td>\n",
       "      <td>-3.255348</td>\n",
       "      <td>-2.954894</td>\n",
       "    </tr>\n",
       "  </tbody>\n",
       "</table>\n",
       "</div>"
      ],
      "text/plain": [
       "          date    bitcoin  ethereum    ripple   cardano     solana\n",
       "0   2022-09-04  -0.636298 -1.238119 -0.367859  5.582767  -0.385324\n",
       "1   2022-09-05   0.834987  1.496150  0.625075  4.647116   3.438845\n",
       "2   2022-09-06  -0.972370  2.469120  0.283447 -0.562930   0.220518\n",
       "3   2022-09-07  -4.681320 -3.299050 -3.088954 -7.096982  -3.983258\n",
       "4   2022-09-08   2.232962  4.175252  4.623904  3.342424   5.883215\n",
       "5   2022-09-09   0.218625  0.371127  0.808318  0.042716   2.607785\n",
       "6   2022-09-10  10.540952  4.960156  4.700964  4.601928   3.275954\n",
       "7   2022-09-11   1.628331  3.636533  0.302950  2.078872   1.278277\n",
       "8   2022-09-12   0.149337 -1.022842 -0.883464 -0.779317  -0.700938\n",
       "9   2022-09-13   2.759299 -2.904250  1.161676 -1.565158   6.990171\n",
       "10  2022-09-14  -9.645187 -8.008533 -7.098948 -6.996775 -11.473899\n",
       "11  2022-09-15   0.351526  3.951359  2.750639  3.575440   3.058941\n",
       "12  2022-09-16  -2.733784 -9.989714 -4.476076 -3.255348  -2.954894"
      ]
     },
     "execution_count": 43,
     "metadata": {},
     "output_type": "execute_result"
    }
   ],
   "source": [
    "two_week_daily_pct_change_df"
   ]
  },
  {
   "cell_type": "code",
   "execution_count": 6,
   "id": "51f2a1c1-9aee-4c9b-9031-12bade83c832",
   "metadata": {},
   "outputs": [],
   "source": [
    "crypto_list = [\"bitcoin\", \"ethereum\"]"
   ]
  },
  {
   "cell_type": "code",
   "execution_count": 10,
   "id": "a45f5a1e-872f-4aa3-a4b0-72945b17a931",
   "metadata": {},
   "outputs": [
    {
     "name": "stdout",
     "output_type": "stream",
     "text": [
      "-1.2381185156858598\n",
      "1.4961504132834813\n",
      "2.469120073010877\n",
      "-3.2990501119324778\n",
      "4.175251879459707\n",
      "0.3711274975864542\n",
      "4.960155571287683\n",
      "3.636533100352901\n",
      "-1.022842279693725\n",
      "-2.90425032481395\n",
      "-8.008533325658185\n",
      "3.951359425700396\n",
      "-9.989714429891205\n"
     ]
    }
   ],
   "source": [
    "for row in two_week_daily_pct_change_df.loc[:, 'ethereum']:\n",
    "    print(row)"
   ]
  },
  {
   "cell_type": "code",
   "execution_count": 11,
   "id": "a7650665-399e-4f3c-9233-00dafe81800f",
   "metadata": {},
   "outputs": [
    {
     "name": "stdout",
     "output_type": "stream",
     "text": [
      "bitcoin\n",
      "ethereum\n",
      "ripple\n",
      "cardano\n",
      "solana\n"
     ]
    }
   ],
   "source": [
    "for row in two_week_daily_pct_change_df:\n",
    "    print(row)"
   ]
  },
  {
   "cell_type": "code",
   "execution_count": 44,
   "id": "89a0e43e-4943-4bfc-9308-cd0508df1b21",
   "metadata": {},
   "outputs": [
    {
     "data": {
      "text/plain": [
       "{'date': {0: '2022-09-04',\n",
       "  1: '2022-09-05',\n",
       "  2: '2022-09-06',\n",
       "  3: '2022-09-07',\n",
       "  4: '2022-09-08',\n",
       "  5: '2022-09-09',\n",
       "  6: '2022-09-10',\n",
       "  7: '2022-09-11',\n",
       "  8: '2022-09-12',\n",
       "  9: '2022-09-13',\n",
       "  10: '2022-09-14',\n",
       "  11: '2022-09-15',\n",
       "  12: '2022-09-16'},\n",
       " 'bitcoin': {0: -0.6362983444783032,\n",
       "  1: 0.834986705137708,\n",
       "  2: -0.9723703294193032,\n",
       "  3: -4.681319568405273,\n",
       "  4: 2.232961567478653,\n",
       "  5: 0.2186250283543023,\n",
       "  6: 10.540952251410983,\n",
       "  7: 1.628331421377438,\n",
       "  8: 0.1493365369150234,\n",
       "  9: 2.759298622692863,\n",
       "  10: -9.64518706967402,\n",
       "  11: 0.3515263844693805,\n",
       "  12: -2.733783541277801},\n",
       " 'ethereum': {0: -1.2381185156858598,\n",
       "  1: 1.4961504132834813,\n",
       "  2: 2.469120073010877,\n",
       "  3: -3.2990501119324778,\n",
       "  4: 4.175251879459707,\n",
       "  5: 0.3711274975864542,\n",
       "  6: 4.960155571287683,\n",
       "  7: 3.636533100352901,\n",
       "  8: -1.022842279693725,\n",
       "  9: -2.90425032481395,\n",
       "  10: -8.008533325658185,\n",
       "  11: 3.951359425700396,\n",
       "  12: -9.989714429891205},\n",
       " 'ripple': {0: -0.3678592625386057,\n",
       "  1: 0.6250748164588815,\n",
       "  2: 0.2834474295300149,\n",
       "  3: -3.0889541751113025,\n",
       "  4: 4.623904435898174,\n",
       "  5: 0.8083176395909719,\n",
       "  6: 4.700964424082565,\n",
       "  7: 0.3029499140009273,\n",
       "  8: -0.8834637083841246,\n",
       "  9: 1.161676138933898,\n",
       "  10: -7.098947672295064,\n",
       "  11: 2.7506391203831804,\n",
       "  12: -4.476075941666469},\n",
       " 'cardano': {0: 5.582766811700202,\n",
       "  1: 4.647116401328844,\n",
       "  2: -0.5629304870648943,\n",
       "  3: -7.0969824955929965,\n",
       "  4: 3.342423817154616,\n",
       "  5: 0.0427162125369973,\n",
       "  6: 4.601927503250547,\n",
       "  7: 2.0788723709393557,\n",
       "  8: -0.7793168698054576,\n",
       "  9: -1.5651576591019345,\n",
       "  10: -6.996774501690184,\n",
       "  11: 3.575439898044208,\n",
       "  12: -3.2553476617818267},\n",
       " 'solana': {0: -0.3853243826045127,\n",
       "  1: 3.4388446244198567,\n",
       "  2: 0.2205182489217083,\n",
       "  3: -3.983257842312482,\n",
       "  4: 5.883215204524794,\n",
       "  5: 2.6077852165307114,\n",
       "  6: 3.2759539221782097,\n",
       "  7: 1.2782765600885204,\n",
       "  8: -0.7009379066035493,\n",
       "  9: 6.990171449823013,\n",
       "  10: -11.473899006533694,\n",
       "  11: 3.058941412659455,\n",
       "  12: -2.954893684330062}}"
      ]
     },
     "execution_count": 44,
     "metadata": {},
     "output_type": "execute_result"
    }
   ],
   "source": [
    "dictionary = two_week_daily_pct_change_df.to_dict()\n",
    "dictionary"
   ]
  },
  {
   "cell_type": "code",
   "execution_count": 34,
   "id": "d325dc29-8208-40df-baca-e167eb46f9b9",
   "metadata": {},
   "outputs": [
    {
     "data": {
      "text/plain": [
       "'2022-09-04'"
      ]
     },
     "execution_count": 34,
     "metadata": {},
     "output_type": "execute_result"
    }
   ],
   "source": [
    "dictionary['date'][0]"
   ]
  },
  {
   "cell_type": "code",
   "execution_count": 16,
   "id": "6d09992e-2a87-4e3d-b785-45b85f66f05b",
   "metadata": {},
   "outputs": [
    {
     "data": {
      "text/plain": [
       "{'2022-09-04': -0.6362983444783032,\n",
       " '2022-09-05': 0.834986705137708,\n",
       " '2022-09-06': -0.9723703294193032,\n",
       " '2022-09-07': -4.681319568405273,\n",
       " '2022-09-08': 2.232961567478653,\n",
       " '2022-09-09': 0.2186250283543023,\n",
       " '2022-09-10': 10.540952251410983,\n",
       " '2022-09-11': 1.628331421377438,\n",
       " '2022-09-12': 0.1493365369150234,\n",
       " '2022-09-13': 2.759298622692863,\n",
       " '2022-09-14': -9.64518706967402,\n",
       " '2022-09-15': 0.3515263844693805,\n",
       " '2022-09-16': -2.733783541277801}"
      ]
     },
     "execution_count": 16,
     "metadata": {},
     "output_type": "execute_result"
    }
   ],
   "source": []
  },
  {
   "cell_type": "code",
   "execution_count": 45,
   "id": "d8c28596-97d7-424a-8065-446e3be94f17",
   "metadata": {},
   "outputs": [],
   "source": [
    "def get_keys_from_value(dictionary_data, value_data):\n",
    "    return [k for k, v in dictionary_data.items() if v == value_data]"
   ]
  },
  {
   "cell_type": "code",
   "execution_count": 47,
   "id": "3d4143db-2946-423a-b14c-8a65457497ef",
   "metadata": {},
   "outputs": [
    {
     "data": {
      "text/plain": [
       "[0]"
      ]
     },
     "execution_count": 47,
     "metadata": {},
     "output_type": "execute_result"
    }
   ],
   "source": [
    "indexer = get_keys_from_value(dictionary['bitcoin'], -0.6362983444783032)\n",
    "indexer"
   ]
  },
  {
   "cell_type": "code",
   "execution_count": 48,
   "id": "ddff2b33-1c5a-4060-90e5-cb92fd6eaf9b",
   "metadata": {},
   "outputs": [],
   "source": [
    "s = [str(i) for i in indexer]\n",
    "# Join list items using join()\n",
    "res = int(\"\".join(s))"
   ]
  },
  {
   "cell_type": "code",
   "execution_count": 49,
   "id": "b9642f28-26a3-4ba5-90b1-e7f2e9e9ef49",
   "metadata": {},
   "outputs": [
    {
     "data": {
      "text/plain": [
       "0"
      ]
     },
     "execution_count": 49,
     "metadata": {},
     "output_type": "execute_result"
    }
   ],
   "source": [
    "res"
   ]
  },
  {
   "cell_type": "code",
   "execution_count": 50,
   "id": "e9c46bf2-612e-4616-bb57-244171d12531",
   "metadata": {},
   "outputs": [
    {
     "data": {
      "text/plain": [
       "'2022-09-04'"
      ]
     },
     "execution_count": 50,
     "metadata": {},
     "output_type": "execute_result"
    }
   ],
   "source": [
    "dictionary['date'][res]"
   ]
  },
  {
   "cell_type": "code",
   "execution_count": null,
   "id": "5b920aef-a3f2-4823-82f8-48e42fbc8eea",
   "metadata": {},
   "outputs": [],
   "source": []
  },
  {
   "cell_type": "code",
   "execution_count": 37,
   "id": "1b69115a-ad5c-4456-acad-15d29fa65b44",
   "metadata": {},
   "outputs": [
    {
     "data": {
      "text/plain": [
       "[0]"
      ]
     },
     "execution_count": 37,
     "metadata": {},
     "output_type": "execute_result"
    }
   ],
   "source": [
    "type(get_keys_from_value(dictionary['bitcoin'], -0.6362983444783032))\n",
    "indexer = get_keys_from_value(dictionary['bitcoin'], -0.6362983444783032)\n",
    "indexer"
   ]
  },
  {
   "cell_type": "code",
   "execution_count": null,
   "id": "f2dd0494-c1d3-41a5-8810-01828a3a409a",
   "metadata": {},
   "outputs": [],
   "source": []
  },
  {
   "cell_type": "code",
   "execution_count": null,
   "id": "b9d0fd8d-3cab-4941-a296-6fa13201d38c",
   "metadata": {},
   "outputs": [],
   "source": []
  },
  {
   "cell_type": "code",
   "execution_count": 36,
   "id": "62ef3fc1-98d7-4e92-a1e6-51821a3770b7",
   "metadata": {},
   "outputs": [
    {
     "ename": "TypeError",
     "evalue": "sequence item 0: expected str instance, int found",
     "output_type": "error",
     "traceback": [
      "\u001b[1;31m---------------------------------------------------------------------------\u001b[0m",
      "\u001b[1;31mTypeError\u001b[0m                                 Traceback (most recent call last)",
      "\u001b[1;32m~\\AppData\\Local\\Temp\\ipykernel_20224\\3779549298.py\u001b[0m in \u001b[0;36m<module>\u001b[1;34m\u001b[0m\n\u001b[1;32m----> 1\u001b[1;33m \u001b[0mindexer\u001b[0m \u001b[1;33m=\u001b[0m \u001b[1;34m''\u001b[0m\u001b[1;33m.\u001b[0m\u001b[0mjoin\u001b[0m\u001b[1;33m(\u001b[0m\u001b[0mget_keys_from_value\u001b[0m\u001b[1;33m(\u001b[0m\u001b[0mdictionary\u001b[0m\u001b[1;33m[\u001b[0m\u001b[1;34m'bitcoin'\u001b[0m\u001b[1;33m]\u001b[0m\u001b[1;33m,\u001b[0m \u001b[1;33m-\u001b[0m\u001b[1;36m0.6362983444783032\u001b[0m\u001b[1;33m)\u001b[0m\u001b[1;33m)\u001b[0m\u001b[1;33m\u001b[0m\u001b[1;33m\u001b[0m\u001b[0m\n\u001b[0m",
      "\u001b[1;31mTypeError\u001b[0m: sequence item 0: expected str instance, int found"
     ]
    }
   ],
   "source": [
    "indexer = ''.join(get_keys_from_value(dictionary['bitcoin'], -0.6362983444783032))"
   ]
  },
  {
   "cell_type": "code",
   "execution_count": 40,
   "id": "1fbf3006-30f0-4a4d-b0fd-db5fb43522a9",
   "metadata": {},
   "outputs": [
    {
     "ename": "TypeError",
     "evalue": "unhashable type: 'list'",
     "output_type": "error",
     "traceback": [
      "\u001b[1;31m---------------------------------------------------------------------------\u001b[0m",
      "\u001b[1;31mTypeError\u001b[0m                                 Traceback (most recent call last)",
      "\u001b[1;32m~\\AppData\\Local\\Temp\\ipykernel_20224\\1068306481.py\u001b[0m in \u001b[0;36m<module>\u001b[1;34m\u001b[0m\n\u001b[1;32m----> 1\u001b[1;33m \u001b[0mdictionary\u001b[0m\u001b[1;33m[\u001b[0m\u001b[1;34m'date'\u001b[0m\u001b[1;33m]\u001b[0m\u001b[1;33m[\u001b[0m\u001b[0mindexer\u001b[0m\u001b[1;33m]\u001b[0m\u001b[1;33m\u001b[0m\u001b[1;33m\u001b[0m\u001b[0m\n\u001b[0m",
      "\u001b[1;31mTypeError\u001b[0m: unhashable type: 'list'"
     ]
    }
   ],
   "source": [
    "dictionary['date'][indexer]"
   ]
  },
  {
   "cell_type": "code",
   "execution_count": null,
   "id": "08cfe39d-82a2-46dc-8db0-79b343e8ffd7",
   "metadata": {},
   "outputs": [],
   "source": []
  }
 ],
 "metadata": {
  "kernelspec": {
   "display_name": "Python (dev)",
   "language": "python",
   "name": "dev"
  },
  "language_info": {
   "codemirror_mode": {
    "name": "ipython",
    "version": 3
   },
   "file_extension": ".py",
   "mimetype": "text/x-python",
   "name": "python",
   "nbconvert_exporter": "python",
   "pygments_lexer": "ipython3",
   "version": "3.7.13"
  }
 },
 "nbformat": 4,
 "nbformat_minor": 5
}
